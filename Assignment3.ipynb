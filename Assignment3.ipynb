{
 "cells": [
  {
   "cell_type": "markdown",
   "id": "92606f53-b2a4-4fc7-93d2-0f8f1c54106f",
   "metadata": {},
   "source": [
    "## Q1. Write program to check a person’s eligibility for a loan based on age, credit score, and income. \n",
    "\n",
    "This time, the eligibility criteria will be:\n",
    "The person must be 18 years or older. The person must have a credit score of 650 or higher. The person must have\n",
    "an annual income of at least 30000 dollars If the person has a credit score of 700 or higher, they may still be eligible\n",
    "with an income of 25000 dollars or more."
   ]
  },
  {
   "cell_type": "code",
   "execution_count": 17,
   "id": "06d38a2e-c25d-46a2-ad8a-212174fe00b1",
   "metadata": {},
   "outputs": [
    {
     "name": "stdin",
     "output_type": "stream",
     "text": [
      "Enter your age:  20\n",
      "Enter your credit score(0-999):  750\n",
      "Enter your annual income:  25000\n"
     ]
    },
    {
     "name": "stdout",
     "output_type": "stream",
     "text": [
      "You are eligible for loan\n"
     ]
    }
   ],
   "source": [
    "age = float (input(\"Enter your age: \"))\n",
    "\n",
    "if age >= 18:\n",
    "    credit_score = float (input(\"Enter your credit score(0-999): \"))\n",
    "    annual_income = float (input(\"Enter your annual income: \"))\n",
    "    if credit_score >= 650 and annual_income >= 30000:\n",
    "        print (\"You are eligible for loan\")\n",
    "    elif credit_score >= 700 and annual_income >= 25000:\n",
    "        print (\"You are eligible for loan\")\n",
    "    else:\n",
    "        print (\"You are not eligible for loan\")\n",
    "else:\n",
    "    print (\"You are not eligible for loan\")"
   ]
  },
  {
   "cell_type": "markdown",
   "id": "4462145a-1f07-4cdf-bb01-3cc915875ae2",
   "metadata": {},
   "source": [
    "### Q2. Write a Python program that checks if a person is an adult (age ≥ 18).\n",
    "\n",
    "Take the age as input.\n",
    "If the person is underage (age &lt; 18), show message: &quot;You are underage&quot; and don&#39;t ask for experience.\n",
    "If the person is an adult, take years of experience as input and print:\n",
    "&quot;You have a lot of experience.&quot; (10+ years)\n",
    "&quot;You have moderate experience.&quot; (5-9 years)\n",
    "&quot;You are relatively new.&quot; (2-4 years)\n",
    "&quot;You are just starting out.&quot; (less than 2 years)"
   ]
  },
  {
   "cell_type": "code",
   "execution_count": 34,
   "id": "1e9656c5-97dc-4cbd-a97a-5451c417d54a",
   "metadata": {},
   "outputs": [
    {
     "name": "stdin",
     "output_type": "stream",
     "text": [
      "Enter your age:  18\n",
      "Enter your years of experience:  1\n"
     ]
    },
    {
     "name": "stdout",
     "output_type": "stream",
     "text": [
      "You are just starting out.\n"
     ]
    }
   ],
   "source": [
    "age = float (input(\"Enter your age: \"))\n",
    "\n",
    "if age >= 18:\n",
    "    year_of_experience = float (input(\"Enter your years of experience: \"))\n",
    "    if year_of_experience >= 10:\n",
    "        print (\"You have a lot of experience.\")\n",
    "    elif 5 <= year_of_experience < 10:\n",
    "        print (\"You have moderate experience.\")\n",
    "    elif 2 <= year_of_experience < 5:\n",
    "        print (\"You are relatively new.\")\n",
    "    else:\n",
    "        print (\"You are just starting out.\")\n",
    "else:\n",
    "    print (\"You are underage.\")"
   ]
  },
  {
   "cell_type": "markdown",
   "id": "16cc25d7-e8ec-42b6-9147-c39b6eeccb3d",
   "metadata": {},
   "source": [
    "## Q3. Write a program to explore below variables\n",
    "\n",
    "a) Print their memory address (to check if python assigns same address of different variables having same element)\n",
    "b) Find memory size and append them in a list, use this list to find data type having least memory size\n",
    "c) Print final name of data type which has lowest memory\n",
    "Result will help a programmer to decide which variable is storing less memory and variable locations"
   ]
  },
  {
   "cell_type": "code",
   "execution_count": 178,
   "id": "27884bd9-6590-4c25-bbee-7a8aea3e6efd",
   "metadata": {},
   "outputs": [
    {
     "name": "stdout",
     "output_type": "stream",
     "text": [
      "Memory address of int_var: 140716963477016\n",
      "Memory address of float_var: 2802098096272\n",
      "Memory address of str_var: 2802109348720\n",
      "Memory address of list_var: 2802108884288\n",
      "Memory address of tuple_var: 2802105967984\n",
      "Memory address of dict_var: 2802102795584\n",
      "\n",
      "Memory sizes of different data types:\n",
      "int: 28 bytes\n",
      "float: 24 bytes\n",
      "str: 54 bytes\n",
      "list: 104 bytes\n",
      "tuple: 80 bytes\n",
      "dict: 184 bytes\n",
      "\n",
      "The data type with the least memory size is 'float' with 24 bytes.\n"
     ]
    }
   ],
   "source": [
    "import sys\n",
    "\n",
    "int_var = 100\n",
    "float_var = 3.14\n",
    "str_var = \"Hello, World!\"\n",
    "list_var = [1, 2, 3, 4, 5]\n",
    "tuple_var = (1, 2, 3, 4, 5)\n",
    "dict_var = {\"key1\": \"value1\", \"key2\": \"value2\"}\n",
    "\n",
    "print(f\"Memory address of int_var: {id(int_var)}\")\n",
    "print(f\"Memory address of float_var: {id(float_var)}\")\n",
    "print(f\"Memory address of str_var: {id(str_var)}\")\n",
    "print(f\"Memory address of list_var: {id(list_var)}\")\n",
    "print(f\"Memory address of tuple_var: {id(tuple_var)}\")\n",
    "print(f\"Memory address of dict_var: {id(dict_var)}\")\n",
    "\n",
    "# Step b: Find memory size and append them in a list\n",
    "memory_sizes = [\n",
    "    ('int', sys.getsizeof(int_var)),\n",
    "    ('float', sys.getsizeof(float_var)),\n",
    "    ('str', sys.getsizeof(str_var)),\n",
    "    ('list', sys.getsizeof(list_var)),\n",
    "    ('tuple', sys.getsizeof(tuple_var)),\n",
    "    ('dict', sys.getsizeof(dict_var)),\n",
    "]\n",
    "\n",
    "# Step c: Find the data type with the least memory size using the list\n",
    "least_memory_type = min(memory_sizes, key=lambda x: x[1])\n",
    "\n",
    "# Print the memory sizes and the type with the least memory\n",
    "print(\"\\nMemory sizes of different data types:\")\n",
    "print(f\"int: {sys.getsizeof(int_var)} bytes\")\n",
    "print(f\"float: {sys.getsizeof(float_var)} bytes\")\n",
    "print(f\"str: {sys.getsizeof(str_var)} bytes\")\n",
    "print(f\"list: {sys.getsizeof(list_var)} bytes\")\n",
    "print(f\"tuple: {sys.getsizeof(tuple_var)} bytes\")\n",
    "print(f\"dict: {sys.getsizeof(dict_var)} bytes\")\n",
    "\n",
    "print(f\"\\nThe data type with the least memory size is '{least_memory_type[0]}' with {least_memory_type[1]} bytes.\")"
   ]
  },
  {
   "cell_type": "markdown",
   "id": "72b711c8-39db-4556-88be-2681175c8da4",
   "metadata": {},
   "source": [
    "## Q4. Write a Python program that asks the user to enter an email address. \n",
    "\n",
    "The program should check if the email\n",
    "contains the characters @ and &quot;.&quot; (ignoring case). If either character is present, print &quot;Email format is valid.&quot;\n",
    "Otherwise, print &quot;Invalid email format.&quot;"
   ]
  },
  {
   "cell_type": "code",
   "execution_count": 39,
   "id": "c13f5ed2-81f0-45e5-af7f-3a864eeed45d",
   "metadata": {},
   "outputs": [
    {
     "name": "stdin",
     "output_type": "stream",
     "text": [
      "Enter your email address:  sadiapk06@gmail.com\n"
     ]
    },
    {
     "name": "stdout",
     "output_type": "stream",
     "text": [
      "Email format is valid.\n"
     ]
    }
   ],
   "source": [
    "email = input(\"Enter your email address: \")\n",
    "\n",
    "# Convert the email to lowercase for case-insensitive comparison\n",
    "email_lower = email.lower()\n",
    "\n",
    "if '@' in email_lower and '.' in email_lower:\n",
    "    print(\"Email format is valid.\")\n",
    "else:\n",
    "    print(\"Invalid email format.\")"
   ]
  },
  {
   "cell_type": "markdown",
   "id": "854c76f2-717c-4344-a1c4-791566d61caa",
   "metadata": {},
   "source": [
    "## Q5. Write a python program to know data type of each element stored in a tuple\n",
    "\n",
    "Write a python program to know data type of each element stored in a tuple, append the data types in a list.\n",
    "Show final output in a list as data types of tuple elements\n",
    "x = (11,22.333,&#39;apple&#39;,[1,2,3],(&#39;a&#39;,&#39;b&#39;))"
   ]
  },
  {
   "cell_type": "code",
   "execution_count": 46,
   "id": "0568ba2d-7313-4f87-afd9-77bbf6b9c5e8",
   "metadata": {},
   "outputs": [
    {
     "name": "stdout",
     "output_type": "stream",
     "text": [
      "Tuple is: (11, 22.333, 'apple', [1, 2, 3], ('a', 'b'))\n",
      "Data types of tuple elements: [<class 'int'>, <class 'float'>, <class 'str'>, <class 'list'>, <class 'tuple'>]\n"
     ]
    }
   ],
   "source": [
    "# By using for loop\n",
    "\n",
    "x = (11, 22.333, 'apple', [1, 2, 3], ('a', 'b'))\n",
    "print (\"Tuple is:\" , x)\n",
    "\n",
    "data_types = []\n",
    "\n",
    "for i in x:\n",
    "    data_types.append(type(i))\n",
    "\n",
    "print(\"Data types of tuple elements:\", data_types)"
   ]
  },
  {
   "cell_type": "markdown",
   "id": "863c47a5-3e7e-4330-9811-591b6308a51b",
   "metadata": {},
   "source": [
    "## Q5. Write a python program to know data type of each element stored in a tuple\n",
    "\n",
    "Write a python program to know data type of each element stored in a tuple, append the data types in a list.\n",
    "Show final output in a list as data types of tuple elements\n",
    "x = (11,22.333,&#39;apple&#39;,[1,2,3],(&#39;a&#39;,&#39;b&#39;))"
   ]
  },
  {
   "cell_type": "code",
   "execution_count": 53,
   "id": "080499a5-cd05-4d6b-be30-3caca31a52a8",
   "metadata": {},
   "outputs": [
    {
     "name": "stdout",
     "output_type": "stream",
     "text": [
      "Tuple is: (11, 22.333, 'apple', [1, 2, 3], ('a', 'b'))\n",
      "Data types of tuple elements: [<class 'int'>, <class 'float'>, <class 'str'>, <class 'list'>, <class 'tuple'>]\n"
     ]
    }
   ],
   "source": [
    "# Without using for loop\n",
    "\n",
    "x = (11, 22.333, 'apple', [1, 2, 3], ('a', 'b'))\n",
    "print (\"Tuple is:\" , x)\n",
    "\n",
    "data_types = [type(x[0]), type(x[1]), type(x[2]), type(x[3]), type(x[4])]\n",
    "\n",
    "print(\"Data types of tuple elements:\", data_types)"
   ]
  },
  {
   "cell_type": "markdown",
   "id": "f9b81cf1-daba-49f2-8b7c-8594c9a406f6",
   "metadata": {},
   "source": [
    "## Q6. Write a Python program that:\n",
    "Checks if a given username exists in a list of active users.\n",
    "Verifies if the user is the admin using identity operators.\n",
    "Hints:\n",
    "Use a list of tuples where each tuple contains a username and role\n",
    "[(&quot;alice&quot;, &quot;admin&quot;),\n",
    "(&quot;bob&quot;, &quot;user&quot;),\n",
    "(&quot;charlie&quot;, &quot;moderator&quot;)]\n",
    "Use the in operator to check if the username exists in the list.\n",
    "Use the is operator to check if the user is the admin (admin is a specific reference, e.g., (&quot;alice&quot;, &quot;admin&quot;))."
   ]
  },
  {
   "cell_type": "code",
   "execution_count": 63,
   "id": "97bfb5c7-c30c-4c54-85a1-3edf527e6db0",
   "metadata": {},
   "outputs": [
    {
     "name": "stdin",
     "output_type": "stream",
     "text": [
      "Enter the username:  charlie\n"
     ]
    },
    {
     "name": "stdout",
     "output_type": "stream",
     "text": [
      "Welcome charlie, you are not the admin.\n"
     ]
    }
   ],
   "source": [
    "active_users = [(\"alice\", \"admin\"), (\"bob\", \"user\"), (\"charlie\", \"moderator\")]\n",
    "\n",
    "username = input(\"Enter the username: \")\n",
    "\n",
    "# Use filter and next to find the user tuple\n",
    "user_tuple = next(filter(lambda user: user[0] == username, active_users), None)\n",
    "\n",
    "if user_tuple:\n",
    "    if user_tuple == (\"alice\", \"admin\"):  \n",
    "        print(f\"Welcome {username}, you are the admin.\")\n",
    "    else:\n",
    "        print(f\"Welcome {username}, you are not the admin.\")\n",
    "else:\n",
    "    print(f\"User {username} not found in the active users list.\")"
   ]
  },
  {
   "cell_type": "markdown",
   "id": "e684eeb1-9c61-4aeb-bb0a-01b016da7d34",
   "metadata": {},
   "source": [
    "## Q7. Compare Families\n",
    "Person1 has same family as of person2, write a program to print relation between person1 and person2, if their\n",
    "data is [&#39;father name&#39;,&#39;mother name&#39;,&#39;district&#39;,&#39;family number&#39;] same (Print relation &#39;Siblings&#39;) also check person1\n",
    "data with person3 which is cousin of person1 (Print relation &#39;Cousin&#39;)\n",
    "Hint:\n",
    "Use identity operator"
   ]
  },
  {
   "cell_type": "code",
   "execution_count": 170,
   "id": "7d276afb-49bf-44c4-9156-2add34622aab",
   "metadata": {},
   "outputs": [
    {
     "name": "stdout",
     "output_type": "stream",
     "text": [
      "Siblings\n",
      "Cousin\n"
     ]
    }
   ],
   "source": [
    "district = 'City A'  # Common district to simulate shared references\n",
    "family_number = 123  # Common family number to simulate shared references\n",
    "\n",
    "person1 = ['Ahmed', 'Maryam', district, family_number]\n",
    "person2 = person1  \n",
    "person3 = ['Nasir', 'Mehwish', district, family_number]\n",
    "\n",
    "if person1 is person2:\n",
    "    print(\"Siblings\")\n",
    "\n",
    "if person1[2] is person3[2] and person1[3] is person3[3]:\n",
    "    print(\"Cousin\")\n",
    "\n",
    "if person1 is not person2 and (person1[2] is not person3[2] or person1[3] is not person3[3]):\n",
    "    print(\"No relation\")\n"
   ]
  },
  {
   "cell_type": "markdown",
   "id": "31933277-ab8c-4ec4-a7a3-f97f4daea573",
   "metadata": {},
   "source": [
    "## Q8. Write a Python program to store and display book's detail\n",
    "Write a Python program to store and display a book&#39;s title, author, year of publication, and price using a tuple.\n",
    "Instructions:\n",
    "Create a tuple to store the book details.\n",
    "Ask the user for the book&#39;s title, author, year, and price.\n",
    "Display the stored book information."
   ]
  },
  {
   "cell_type": "code",
   "execution_count": 182,
   "id": "b7d0e6ff-e8d0-4e6c-b622-cfe368c3dfee",
   "metadata": {},
   "outputs": [
    {
     "name": "stdin",
     "output_type": "stream",
     "text": [
      "Enter the Book's title:  End of Time\n",
      "Enter the Author's name:  Dr. Shahid Masood\n",
      "Enter the year of publication:  2004\n",
      "Enter the price of the book:  550.5\n"
     ]
    },
    {
     "name": "stdout",
     "output_type": "stream",
     "text": [
      "\n",
      "The book details are as follows:\n",
      "Title: End of Time\n",
      "Author: Dr. Shahid Masood\n",
      "Year of Publication: 2004\n",
      "Price: Rs. 550.50\n"
     ]
    }
   ],
   "source": [
    "book_title = input(\"Enter the Book's title: \")\n",
    "book_author = input(\"Enter the Author's name: \")\n",
    "year_of_publication = input(\"Enter the year of publication: \")\n",
    "book_price = float(input(\"Enter the price of the book: \"))\n",
    "\n",
    "book_details = (book_title, book_author, year_of_publication, book_price)\n",
    "\n",
    "print(\"\\nThe book details are as follows:\")\n",
    "print(f\"Title: {book_details[0]}\")\n",
    "print(f\"Author: {book_details[1]}\")\n",
    "print(f\"Year of Publication: {book_details[2]}\")\n",
    "print(f\"Price: Rs. {book_details[3]:.2f}\") #The price is formatted to two decimal places using the :.2f format specifier."
   ]
  },
  {
   "cell_type": "markdown",
   "id": "9d7137e2-c477-4073-9bf8-eb09ca4f6e8d",
   "metadata": {},
   "source": [
    "## Q9. Write a program to check if a user’s chosen subject is available.\n",
    "Write a program to check if a user’s chosen subject is available in the list of offered subjects.\n",
    "Instructions:\n",
    "Given a list of subjects, ask the user to input a subject.\n",
    "Display whether the subject is available or not."
   ]
  },
  {
   "cell_type": "code",
   "execution_count": 75,
   "id": "2ce4b0e0-4259-4be6-ae34-8e9ec1bada58",
   "metadata": {},
   "outputs": [
    {
     "name": "stdin",
     "output_type": "stream",
     "text": [
      "Enter the subject you want to check:  Physics\n"
     ]
    },
    {
     "name": "stdout",
     "output_type": "stream",
     "text": [
      "The subject 'Physics' is available.\n"
     ]
    }
   ],
   "source": [
    "offered_subjects = [\"Mathematics\", \"Physics\", \"Chemistry\", \"Biology\", \"English\", \"History\"]\n",
    "\n",
    "chosen_subject = input(\"Enter the subject you want to check: \")\n",
    "\n",
    "chosen_subject_lower = chosen_subject.strip().lower()\n",
    "offered_subjects_lower = list(map(lambda subject: subject.lower(), offered_subjects))\n",
    "\n",
    "if chosen_subject_lower in offered_subjects_lower:\n",
    "    print(f\"The subject '{chosen_subject}' is available.\")\n",
    "else:\n",
    "    print(f\"The subject '{chosen_subject}' is not available.\")"
   ]
  },
  {
   "cell_type": "markdown",
   "id": "96d64d08-3011-4674-ade1-49a7e9df44c1",
   "metadata": {},
   "source": [
    "## Q10. Write a Python program that performs the following tasks using tuple methods\n",
    "Create a tuple with multiple integer values, including duplicates.\n",
    "Prompt the user to input a number and find the index of its first occurrence in the tuple.\n",
    "Ask the user for another number and count how many times it appears in the tuple.\n",
    "Display appropriate messages based on the results"
   ]
  },
  {
   "cell_type": "code",
   "execution_count": 186,
   "id": "4407f405-6f10-45fa-bcef-40d06c993fd2",
   "metadata": {},
   "outputs": [
    {
     "name": "stdin",
     "output_type": "stream",
     "text": [
      "Enter a number which you want to check:  40\n"
     ]
    },
    {
     "name": "stdout",
     "output_type": "stream",
     "text": [
      "The first occurrence of 40 is at index 4.\n"
     ]
    },
    {
     "name": "stdin",
     "output_type": "stream",
     "text": [
      "Enter another number to count its occurrences:  10\n"
     ]
    },
    {
     "name": "stdout",
     "output_type": "stream",
     "text": [
      "The number 10 appears 3 time(s) in the tuple.\n"
     ]
    }
   ],
   "source": [
    "numbers_tuple = (10, 20, 30, 10, 40, 50, 30, 10, 60)\n",
    "\n",
    "first_number = input(\"Enter a number which you want to check: \")\n",
    "\n",
    "if first_number.lstrip('-').isdigit():                   # Checking if input is numeric (allow negative numbers)\n",
    "    first_number_check = int(first_number)  \n",
    "    if first_number_check in numbers_tuple:\n",
    "        index = numbers_tuple.index(first_number_check)\n",
    "        print(f\"The first occurrence of {first_number_check} is at index {index}.\")\n",
    "    else:\n",
    "        print(f\"The number {first_number_check} is not present in the tuple.\")\n",
    "else:\n",
    "    print(\"Invalid input! Please enter a valid integer.\")\n",
    "\n",
    "\n",
    "second_number = input(\"Enter another number to count its occurrences: \")\n",
    "\n",
    "if second_number.lstrip('-').isdigit():               # Checking if input is numeric (allow negative numbers)\n",
    "    second_number_check = int(second_number)  \n",
    "    count = numbers_tuple.count(second_number_check)\n",
    "    print(f\"The number {second_number_check} appears {count} time(s) in the tuple.\")\n",
    "else:\n",
    "    print(\"Invalid input! Please enter a valid integer.\")\n"
   ]
  },
  {
   "cell_type": "markdown",
   "id": "54ef111d-3ea8-43a3-8162-0f7ca4e2841b",
   "metadata": {},
   "source": [
    "## Question for Hard working learners (Not Mandatory) \n",
    "Write a Python program that asks the user to enter the current temperature in Celsius and checks whether it's freezing, normal, or hot based on predefined temperature values.\"\n",
    "Assignment Requirements: Input: The user will be asked to enter the current temperature in Celsius. Predefined values: Freezing: -5 Normal: 25 Hot: 40"
   ]
  },
  {
   "cell_type": "code",
   "execution_count": 82,
   "id": "091f6f8c-d25c-47a1-8a2e-4e7b0bda506b",
   "metadata": {},
   "outputs": [
    {
     "name": "stdin",
     "output_type": "stream",
     "text": [
      "Enter the current temperature in Celsius:  35\n"
     ]
    },
    {
     "name": "stdout",
     "output_type": "stream",
     "text": [
      "The temperature is hot.\n"
     ]
    }
   ],
   "source": [
    "temperature = float(input(\"Enter the current temperature in Celsius: \"))\n",
    "\n",
    "if temperature <= -5:\n",
    "    print(\"The temperature is freezing.\")\n",
    "elif -5 < temperature <= 25:\n",
    "    print(\"The temperature is normal.\")\n",
    "elif temperature > 25:\n",
    "    print(\"The temperature is hot.\")"
   ]
  }
 ],
 "metadata": {
  "kernelspec": {
   "display_name": "Python [conda env:base] *",
   "language": "python",
   "name": "conda-base-py"
  },
  "language_info": {
   "codemirror_mode": {
    "name": "ipython",
    "version": 3
   },
   "file_extension": ".py",
   "mimetype": "text/x-python",
   "name": "python",
   "nbconvert_exporter": "python",
   "pygments_lexer": "ipython3",
   "version": "3.12.7"
  }
 },
 "nbformat": 4,
 "nbformat_minor": 5
}
